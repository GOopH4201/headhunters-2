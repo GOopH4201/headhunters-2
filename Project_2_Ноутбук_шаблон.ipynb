{
 "cells": [
  {
   "cell_type": "markdown",
   "id": "42289889-bd57-434e-9637-d3e354756316",
   "metadata": {
    "id": "42289889-bd57-434e-9637-d3e354756316"
   },
   "source": [
    "<center> <img src = https://raw.githubusercontent.com/AndreyRysistov/DatasetsForPandas/main/hh%20label.jpg alt=\"drawing\" style=\"width:400px;\">"
   ]
  },
  {
   "cell_type": "markdown",
   "id": "829cb75b-f14e-4ba8-9195-7ba929a7d656",
   "metadata": {
    "id": "829cb75b-f14e-4ba8-9195-7ba929a7d656",
    "tags": []
   },
   "source": [
    "# <center> Проект: Анализ вакансий из HeadHunter\n",
    "   "
   ]
  },
  {
   "cell_type": "code",
   "execution_count": 26,
   "id": "dc2236a8",
   "metadata": {},
   "outputs": [],
   "source": [
    "import warnings\n",
    "warnings.filterwarnings('ignore')"
   ]
  },
  {
   "cell_type": "code",
   "execution_count": 3,
   "id": "dccfde33-2452-43fb-a8a5-5c6ebc02a71d",
   "metadata": {
    "id": "dccfde33-2452-43fb-a8a5-5c6ebc02a71d"
   },
   "outputs": [],
   "source": [
    "import pandas as pd\n",
    "import psycopg2"
   ]
  },
  {
   "cell_type": "code",
   "execution_count": 4,
   "id": "oVKH4ehvf8Ay",
   "metadata": {
    "id": "oVKH4ehvf8Ay"
   },
   "outputs": [],
   "source": [
    "from connection_data import *"
   ]
  },
  {
   "cell_type": "code",
   "execution_count": 5,
   "id": "G4X_q8KBf7SF",
   "metadata": {
    "id": "G4X_q8KBf7SF"
   },
   "outputs": [],
   "source": [
    "connection = psycopg2.connect(\n",
    "    dbname=DBNAME,\n",
    "    user=USER,\n",
    "    host=HOST,\n",
    "    password=PASSWORD,\n",
    "    port=PORT\n",
    ")"
   ]
  },
  {
   "cell_type": "markdown",
   "id": "0dc6476b-7a00-44f1-ac93-6e3baed33a29",
   "metadata": {
    "id": "0dc6476b-7a00-44f1-ac93-6e3baed33a29"
   },
   "source": [
    "# Юнит 3. Предварительный анализ данных"
   ]
  },
  {
   "cell_type": "markdown",
   "id": "889782b6-8d1c-410e-8920-e57f27917c64",
   "metadata": {
    "id": "889782b6-8d1c-410e-8920-e57f27917c64"
   },
   "source": [
    "1. Напишите запрос, который посчитает количество вакансий в нашей базе (вакансии находятся в таблице vacancies). "
   ]
  },
  {
   "cell_type": "code",
   "execution_count": 27,
   "id": "bc39e68e-ed02-4ee2-9235-7258a2f867a8",
   "metadata": {
    "id": "bc39e68e-ed02-4ee2-9235-7258a2f867a8"
   },
   "outputs": [],
   "source": [
    "# текст запроса\n",
    "query_3_1 = f'''\n",
    "select count(id)\n",
    "from vacancies\n",
    "'''"
   ]
  },
  {
   "cell_type": "code",
   "execution_count": 28,
   "id": "7mAwtsk4hEHY",
   "metadata": {
    "id": "7mAwtsk4hEHY"
   },
   "outputs": [
    {
     "name": "stdout",
     "output_type": "stream",
     "text": [
      "Общее кол-во: 49197 вакансий\n"
     ]
    }
   ],
   "source": [
    "# результат запроса\n",
    "vacancies_count = pd.read_sql_query(query_3_1, connection)['count'][0]\n",
    "print(f\"Общее кол-во: {vacancies_count} вакансий\")"
   ]
  },
  {
   "cell_type": "markdown",
   "id": "b583485d-1f9e-494e-ada4-80ffff7c53d6",
   "metadata": {
    "id": "b583485d-1f9e-494e-ada4-80ffff7c53d6"
   },
   "source": [
    "2. Напишите запрос, который посчитает количество работодателей (таблица employers). "
   ]
  },
  {
   "cell_type": "code",
   "execution_count": 29,
   "id": "5408c52c-3407-4a63-b25b-1aafa2322d28",
   "metadata": {
    "id": "5408c52c-3407-4a63-b25b-1aafa2322d28"
   },
   "outputs": [],
   "source": [
    "# текст запроса\n",
    "query_3_2 = f'''\n",
    "select count(id)\n",
    "from employers\n",
    "'''"
   ]
  },
  {
   "cell_type": "code",
   "execution_count": 30,
   "id": "jVL4eshKhdqc",
   "metadata": {
    "id": "jVL4eshKhdqc"
   },
   "outputs": [
    {
     "name": "stdout",
     "output_type": "stream",
     "text": [
      "Общее кол-во: 23501 работодатель\n"
     ]
    }
   ],
   "source": [
    "# результат запроса\n",
    "employers_count = pd.read_sql_query(query_3_2, connection)['count'][0]\n",
    "print(f\"Общее кол-во: {employers_count} работодатель\")"
   ]
  },
  {
   "cell_type": "markdown",
   "id": "a2bfff1f-c975-4bf6-84be-2185d79dcb76",
   "metadata": {
    "id": "a2bfff1f-c975-4bf6-84be-2185d79dcb76"
   },
   "source": [
    "3. Посчитате с помощью запроса количество регионов (таблица areas)."
   ]
  },
  {
   "cell_type": "code",
   "execution_count": 31,
   "id": "1m8QJwBYhey6",
   "metadata": {
    "id": "1m8QJwBYhey6"
   },
   "outputs": [],
   "source": [
    "# текст запроса\n",
    "query_3_3 = f'''\n",
    "select count(id)\n",
    "from areas\n",
    "'''"
   ]
  },
  {
   "cell_type": "code",
   "execution_count": 32,
   "id": "EZsn9tlfhe7f",
   "metadata": {
    "id": "EZsn9tlfhe7f"
   },
   "outputs": [
    {
     "name": "stdout",
     "output_type": "stream",
     "text": [
      "Общее кол-во: 1362 региона\n"
     ]
    }
   ],
   "source": [
    "# результат запроса\n",
    "areas_count = pd.read_sql_query(query_3_3, connection)['count'][0]\n",
    "print(f\"Общее кол-во: {areas_count} региона\")"
   ]
  },
  {
   "cell_type": "markdown",
   "id": "41bb59f3-53cc-4a67-a5bc-bedf573955e4",
   "metadata": {
    "id": "41bb59f3-53cc-4a67-a5bc-bedf573955e4"
   },
   "source": [
    "4. Посчитате с помощью запроса количество сфер деятельности в базе (таблица industries)."
   ]
  },
  {
   "cell_type": "code",
   "execution_count": 33,
   "id": "d286cf4c-707b-4cd2-9190-7ab3587d04a1",
   "metadata": {
    "id": "d286cf4c-707b-4cd2-9190-7ab3587d04a1"
   },
   "outputs": [],
   "source": [
    "# текст запроса\n",
    "query_3_4 = f'''\n",
    "select count(id)\n",
    "from industries\n",
    "'''"
   ]
  },
  {
   "cell_type": "code",
   "execution_count": 34,
   "id": "JYAaoZ4qhfzW",
   "metadata": {
    "id": "JYAaoZ4qhfzW"
   },
   "outputs": [
    {
     "name": "stdout",
     "output_type": "stream",
     "text": [
      "Общее кол-во: 294 сферы деятельности\n"
     ]
    }
   ],
   "source": [
    "# результат запроса\n",
    "industries_count = pd.read_sql_query(query_3_4, connection)['count'][0]\n",
    "print(f\"Общее кол-во: {industries_count} сферы деятельности\")"
   ]
  },
  {
   "cell_type": "markdown",
   "id": "9a8a2181-6914-448b-85f1-38f5f18b8a93",
   "metadata": {
    "id": "9a8a2181-6914-448b-85f1-38f5f18b8a93"
   },
   "source": [
    "***"
   ]
  },
  {
   "cell_type": "markdown",
   "id": "d9ec98f7",
   "metadata": {},
   "source": [
    "Выводы:\n",
    "1. Общее количество вакансий - 49 тыс.\n",
    "2. Общее количество работадателей - 23,5 тыс.\n",
    "3. Общее количество регионов - 1362 региона.\n",
    "4. Общее количество сфер деятельности - 294."
   ]
  },
  {
   "cell_type": "markdown",
   "id": "8d62a9f3-f64e-4fe7-bdac-c4dffa16155e",
   "metadata": {
    "id": "8d62a9f3-f64e-4fe7-bdac-c4dffa16155e"
   },
   "source": [
    "# Юнит 4. Детальный анализ вакансий"
   ]
  },
  {
   "cell_type": "markdown",
   "id": "93053d3d-b284-481a-9cf7-012d7014c0e0",
   "metadata": {
    "id": "93053d3d-b284-481a-9cf7-012d7014c0e0"
   },
   "source": [
    "1. Напишите запрос, который позволит узнать, сколько (cnt) вакансий в каждом регионе (area).\n",
    "Отсортируйте по количеству вакансий в порядке убывания."
   ]
  },
  {
   "cell_type": "code",
   "execution_count": 35,
   "id": "3f069da6-fdc9-4ae7-b514-fafe2675efd3",
   "metadata": {
    "id": "3f069da6-fdc9-4ae7-b514-fafe2675efd3"
   },
   "outputs": [],
   "source": [
    "# текст запроса\n",
    "query_4_1 = f'''\n",
    "select\n",
    "    a.name,\n",
    "    count(v.name) cnt\n",
    "from vacancies v\n",
    "    join areas a on a.id = v.area_id\n",
    "group by a.name\n",
    "order by cnt desc\n",
    "'''"
   ]
  },
  {
   "cell_type": "code",
   "execution_count": 36,
   "id": "P7QL86hrjhRJ",
   "metadata": {
    "id": "P7QL86hrjhRJ"
   },
   "outputs": [
    {
     "data": {
      "text/html": [
       "<div>\n",
       "<style scoped>\n",
       "    .dataframe tbody tr th:only-of-type {\n",
       "        vertical-align: middle;\n",
       "    }\n",
       "\n",
       "    .dataframe tbody tr th {\n",
       "        vertical-align: top;\n",
       "    }\n",
       "\n",
       "    .dataframe thead th {\n",
       "        text-align: right;\n",
       "    }\n",
       "</style>\n",
       "<table border=\"1\" class=\"dataframe\">\n",
       "  <thead>\n",
       "    <tr style=\"text-align: right;\">\n",
       "      <th></th>\n",
       "      <th>name</th>\n",
       "      <th>cnt</th>\n",
       "    </tr>\n",
       "  </thead>\n",
       "  <tbody>\n",
       "    <tr>\n",
       "      <th>0</th>\n",
       "      <td>Москва</td>\n",
       "      <td>5333</td>\n",
       "    </tr>\n",
       "    <tr>\n",
       "      <th>1</th>\n",
       "      <td>Санкт-Петербург</td>\n",
       "      <td>2851</td>\n",
       "    </tr>\n",
       "    <tr>\n",
       "      <th>2</th>\n",
       "      <td>Минск</td>\n",
       "      <td>2112</td>\n",
       "    </tr>\n",
       "    <tr>\n",
       "      <th>3</th>\n",
       "      <td>Новосибирск</td>\n",
       "      <td>2006</td>\n",
       "    </tr>\n",
       "    <tr>\n",
       "      <th>4</th>\n",
       "      <td>Алматы</td>\n",
       "      <td>1892</td>\n",
       "    </tr>\n",
       "    <tr>\n",
       "      <th>...</th>\n",
       "      <td>...</td>\n",
       "      <td>...</td>\n",
       "    </tr>\n",
       "    <tr>\n",
       "      <th>764</th>\n",
       "      <td>Тарко-Сале</td>\n",
       "      <td>1</td>\n",
       "    </tr>\n",
       "    <tr>\n",
       "      <th>765</th>\n",
       "      <td>Новоаннинский</td>\n",
       "      <td>1</td>\n",
       "    </tr>\n",
       "    <tr>\n",
       "      <th>766</th>\n",
       "      <td>Бирск</td>\n",
       "      <td>1</td>\n",
       "    </tr>\n",
       "    <tr>\n",
       "      <th>767</th>\n",
       "      <td>Сасово</td>\n",
       "      <td>1</td>\n",
       "    </tr>\n",
       "    <tr>\n",
       "      <th>768</th>\n",
       "      <td>Анна</td>\n",
       "      <td>1</td>\n",
       "    </tr>\n",
       "  </tbody>\n",
       "</table>\n",
       "<p>769 rows × 2 columns</p>\n",
       "</div>"
      ],
      "text/plain": [
       "                name   cnt\n",
       "0             Москва  5333\n",
       "1    Санкт-Петербург  2851\n",
       "2              Минск  2112\n",
       "3        Новосибирск  2006\n",
       "4             Алматы  1892\n",
       "..               ...   ...\n",
       "764       Тарко-Сале     1\n",
       "765    Новоаннинский     1\n",
       "766            Бирск     1\n",
       "767           Сасово     1\n",
       "768             Анна     1\n",
       "\n",
       "[769 rows x 2 columns]"
      ]
     },
     "metadata": {},
     "output_type": "display_data"
    }
   ],
   "source": [
    "# результат запроса\n",
    "cnt_df = pd.read_sql_query(query_4_1, connection)\n",
    "display(cnt_df)"
   ]
  },
  {
   "cell_type": "markdown",
   "id": "4266f0b6-1646-492a-88b4-2f6a46502135",
   "metadata": {
    "id": "4266f0b6-1646-492a-88b4-2f6a46502135"
   },
   "source": [
    "2. Напишите запрос, чтобы определить у какого количества вакансий заполнено хотя бы одно из двух полей с зарплатой."
   ]
  },
  {
   "cell_type": "code",
   "execution_count": 37,
   "id": "0c44b350-72eb-4d65-8b54-a1fc449ba9fd",
   "metadata": {
    "id": "0c44b350-72eb-4d65-8b54-a1fc449ba9fd"
   },
   "outputs": [],
   "source": [
    "# текст запроса\n",
    "query_4_2 = f'''\n",
    "select\n",
    "    count(id)\n",
    "from vacancies\n",
    "where salary_from is not NULL OR salary_to is not NULL\n",
    "'''"
   ]
  },
  {
   "cell_type": "code",
   "execution_count": 38,
   "id": "rhvwaMDkoWTi",
   "metadata": {
    "id": "rhvwaMDkoWTi"
   },
   "outputs": [
    {
     "name": "stdout",
     "output_type": "stream",
     "text": [
      "У 24073 вакансий заполнена зарплата\n"
     ]
    }
   ],
   "source": [
    "# результат запроса\n",
    "salary_count = pd.read_sql_query(query_4_2, connection)['count'][0]\n",
    "print(f\"У {salary_count} вакансий заполнена зарплата\")"
   ]
  },
  {
   "cell_type": "markdown",
   "id": "635c4d5d-f323-4c66-b428-50a088120aa0",
   "metadata": {
    "id": "635c4d5d-f323-4c66-b428-50a088120aa0"
   },
   "source": [
    "3. Найдите средние значения для нижней и верхней границы зарплатной вилки. Округлите значения до целого."
   ]
  },
  {
   "cell_type": "code",
   "execution_count": 39,
   "id": "603cdbe4-0ec3-4106-8eaf-c73fcdd29165",
   "metadata": {
    "id": "603cdbe4-0ec3-4106-8eaf-c73fcdd29165"
   },
   "outputs": [],
   "source": [
    "# текст запроса\n",
    "query_4_3 = f'''\n",
    "select\n",
    "    avg(salary_from) as \"from\",\n",
    "    avg(salary_to) as \"to\"\n",
    "from vacancies\n",
    "'''"
   ]
  },
  {
   "cell_type": "code",
   "execution_count": 40,
   "id": "pswpAb66ovZZ",
   "metadata": {
    "id": "pswpAb66ovZZ"
   },
   "outputs": [
    {
     "name": "stdout",
     "output_type": "stream",
     "text": [
      "Нижняя граница: 71065.0, верхняя граница: 110537.0 заработной платы\n"
     ]
    }
   ],
   "source": [
    "# результат запроса\n",
    "avg_salarys = pd.read_sql_query(query_4_3, connection)\n",
    "print(\"Нижняя граница: {0}, верхняя граница: {1} заработной платы\".format(avg_salarys[\"from\"].round()[0], avg_salarys[\"to\"].round()[0]))"
   ]
  },
  {
   "cell_type": "markdown",
   "id": "f3fdaec9-5fd3-4260-9cf5-1d7406b628a5",
   "metadata": {
    "id": "f3fdaec9-5fd3-4260-9cf5-1d7406b628a5"
   },
   "source": [
    "4. Напишите запрос, который выведет количество вакансий для каждого сочетания типа рабочего графика (schedule) и типа трудоустройства (employment), используемого в вакансиях. Результат отсортируйте по убыванию количества.\n"
   ]
  },
  {
   "cell_type": "code",
   "execution_count": 41,
   "id": "1ea710ec-871b-431e-9462-c7d0fd87011b",
   "metadata": {
    "id": "1ea710ec-871b-431e-9462-c7d0fd87011b"
   },
   "outputs": [],
   "source": [
    "# текст запроса\n",
    "query_4_4 = f'''\n",
    "select\n",
    "    v.schedule,\n",
    "    v.employment,\n",
    "    count(v.id)\n",
    "from vacancies v\n",
    "group by v.schedule, v.employment\n",
    "order by count(v.id) desc\n",
    "'''"
   ]
  },
  {
   "cell_type": "code",
   "execution_count": 42,
   "id": "lGUVqavdo4JQ",
   "metadata": {
    "id": "lGUVqavdo4JQ"
   },
   "outputs": [
    {
     "data": {
      "text/html": [
       "<div>\n",
       "<style scoped>\n",
       "    .dataframe tbody tr th:only-of-type {\n",
       "        vertical-align: middle;\n",
       "    }\n",
       "\n",
       "    .dataframe tbody tr th {\n",
       "        vertical-align: top;\n",
       "    }\n",
       "\n",
       "    .dataframe thead th {\n",
       "        text-align: right;\n",
       "    }\n",
       "</style>\n",
       "<table border=\"1\" class=\"dataframe\">\n",
       "  <thead>\n",
       "    <tr style=\"text-align: right;\">\n",
       "      <th></th>\n",
       "      <th>schedule</th>\n",
       "      <th>employment</th>\n",
       "      <th>count</th>\n",
       "    </tr>\n",
       "  </thead>\n",
       "  <tbody>\n",
       "    <tr>\n",
       "      <th>0</th>\n",
       "      <td>Полный день</td>\n",
       "      <td>Полная занятость</td>\n",
       "      <td>35367</td>\n",
       "    </tr>\n",
       "    <tr>\n",
       "      <th>1</th>\n",
       "      <td>Удаленная работа</td>\n",
       "      <td>Полная занятость</td>\n",
       "      <td>7802</td>\n",
       "    </tr>\n",
       "    <tr>\n",
       "      <th>2</th>\n",
       "      <td>Гибкий график</td>\n",
       "      <td>Полная занятость</td>\n",
       "      <td>1593</td>\n",
       "    </tr>\n",
       "    <tr>\n",
       "      <th>3</th>\n",
       "      <td>Удаленная работа</td>\n",
       "      <td>Частичная занятость</td>\n",
       "      <td>1312</td>\n",
       "    </tr>\n",
       "    <tr>\n",
       "      <th>4</th>\n",
       "      <td>Сменный график</td>\n",
       "      <td>Полная занятость</td>\n",
       "      <td>940</td>\n",
       "    </tr>\n",
       "    <tr>\n",
       "      <th>5</th>\n",
       "      <td>Полный день</td>\n",
       "      <td>Стажировка</td>\n",
       "      <td>569</td>\n",
       "    </tr>\n",
       "    <tr>\n",
       "      <th>6</th>\n",
       "      <td>Вахтовый метод</td>\n",
       "      <td>Полная занятость</td>\n",
       "      <td>367</td>\n",
       "    </tr>\n",
       "    <tr>\n",
       "      <th>7</th>\n",
       "      <td>Полный день</td>\n",
       "      <td>Частичная занятость</td>\n",
       "      <td>347</td>\n",
       "    </tr>\n",
       "    <tr>\n",
       "      <th>8</th>\n",
       "      <td>Гибкий график</td>\n",
       "      <td>Частичная занятость</td>\n",
       "      <td>312</td>\n",
       "    </tr>\n",
       "    <tr>\n",
       "      <th>9</th>\n",
       "      <td>Полный день</td>\n",
       "      <td>Проектная работа</td>\n",
       "      <td>141</td>\n",
       "    </tr>\n",
       "    <tr>\n",
       "      <th>10</th>\n",
       "      <td>Удаленная работа</td>\n",
       "      <td>Проектная работа</td>\n",
       "      <td>133</td>\n",
       "    </tr>\n",
       "    <tr>\n",
       "      <th>11</th>\n",
       "      <td>Гибкий график</td>\n",
       "      <td>Стажировка</td>\n",
       "      <td>116</td>\n",
       "    </tr>\n",
       "    <tr>\n",
       "      <th>12</th>\n",
       "      <td>Сменный график</td>\n",
       "      <td>Частичная занятость</td>\n",
       "      <td>101</td>\n",
       "    </tr>\n",
       "    <tr>\n",
       "      <th>13</th>\n",
       "      <td>Удаленная работа</td>\n",
       "      <td>Стажировка</td>\n",
       "      <td>64</td>\n",
       "    </tr>\n",
       "    <tr>\n",
       "      <th>14</th>\n",
       "      <td>Гибкий график</td>\n",
       "      <td>Проектная работа</td>\n",
       "      <td>18</td>\n",
       "    </tr>\n",
       "    <tr>\n",
       "      <th>15</th>\n",
       "      <td>Сменный график</td>\n",
       "      <td>Стажировка</td>\n",
       "      <td>12</td>\n",
       "    </tr>\n",
       "    <tr>\n",
       "      <th>16</th>\n",
       "      <td>Вахтовый метод</td>\n",
       "      <td>Проектная работа</td>\n",
       "      <td>2</td>\n",
       "    </tr>\n",
       "    <tr>\n",
       "      <th>17</th>\n",
       "      <td>Сменный график</td>\n",
       "      <td>Проектная работа</td>\n",
       "      <td>1</td>\n",
       "    </tr>\n",
       "  </tbody>\n",
       "</table>\n",
       "</div>"
      ],
      "text/plain": [
       "            schedule           employment  count\n",
       "0        Полный день     Полная занятость  35367\n",
       "1   Удаленная работа     Полная занятость   7802\n",
       "2      Гибкий график     Полная занятость   1593\n",
       "3   Удаленная работа  Частичная занятость   1312\n",
       "4     Сменный график     Полная занятость    940\n",
       "5        Полный день           Стажировка    569\n",
       "6     Вахтовый метод     Полная занятость    367\n",
       "7        Полный день  Частичная занятость    347\n",
       "8      Гибкий график  Частичная занятость    312\n",
       "9        Полный день     Проектная работа    141\n",
       "10  Удаленная работа     Проектная работа    133\n",
       "11     Гибкий график           Стажировка    116\n",
       "12    Сменный график  Частичная занятость    101\n",
       "13  Удаленная работа           Стажировка     64\n",
       "14     Гибкий график     Проектная работа     18\n",
       "15    Сменный график           Стажировка     12\n",
       "16    Вахтовый метод     Проектная работа      2\n",
       "17    Сменный график     Проектная работа      1"
      ]
     },
     "metadata": {},
     "output_type": "display_data"
    }
   ],
   "source": [
    "# результат запроса\n",
    "vacancies_count_BySchEmp = pd.read_sql_query(query_4_4, connection)\n",
    "display(vacancies_count_BySchEmp)"
   ]
  },
  {
   "cell_type": "markdown",
   "id": "0136ffee-0ead-4a6b-b608-61d1c753a438",
   "metadata": {
    "id": "0136ffee-0ead-4a6b-b608-61d1c753a438"
   },
   "source": [
    "5. Напишите запрос, выводящий значения поля Требуемый опыт работы (experience) в порядке возрастания количества вакансий, в которых указан данный вариант опыта. "
   ]
  },
  {
   "cell_type": "code",
   "execution_count": 43,
   "id": "5b3a8e79-f7ab-4008-b767-12aea3a205ea",
   "metadata": {
    "id": "5b3a8e79-f7ab-4008-b767-12aea3a205ea"
   },
   "outputs": [],
   "source": [
    "# текст запроса\n",
    "query_4_5 = f'''\n",
    "select \n",
    "    experience \"Требуемый опыт работы\"\n",
    "from vacancies\n",
    "group by experience\n",
    "order by count(id)\n",
    "'''"
   ]
  },
  {
   "cell_type": "code",
   "execution_count": 44,
   "id": "3Is64Y-hpDpq",
   "metadata": {
    "id": "3Is64Y-hpDpq"
   },
   "outputs": [
    {
     "data": {
      "text/html": [
       "<div>\n",
       "<style scoped>\n",
       "    .dataframe tbody tr th:only-of-type {\n",
       "        vertical-align: middle;\n",
       "    }\n",
       "\n",
       "    .dataframe tbody tr th {\n",
       "        vertical-align: top;\n",
       "    }\n",
       "\n",
       "    .dataframe thead th {\n",
       "        text-align: right;\n",
       "    }\n",
       "</style>\n",
       "<table border=\"1\" class=\"dataframe\">\n",
       "  <thead>\n",
       "    <tr style=\"text-align: right;\">\n",
       "      <th></th>\n",
       "      <th>Требуемый опыт работы</th>\n",
       "    </tr>\n",
       "  </thead>\n",
       "  <tbody>\n",
       "    <tr>\n",
       "      <th>0</th>\n",
       "      <td>Более 6 лет</td>\n",
       "    </tr>\n",
       "    <tr>\n",
       "      <th>1</th>\n",
       "      <td>Нет опыта</td>\n",
       "    </tr>\n",
       "    <tr>\n",
       "      <th>2</th>\n",
       "      <td>От 3 до 6 лет</td>\n",
       "    </tr>\n",
       "    <tr>\n",
       "      <th>3</th>\n",
       "      <td>От 1 года до 3 лет</td>\n",
       "    </tr>\n",
       "  </tbody>\n",
       "</table>\n",
       "</div>"
      ],
      "text/plain": [
       "  Требуемый опыт работы\n",
       "0           Более 6 лет\n",
       "1             Нет опыта\n",
       "2         От 3 до 6 лет\n",
       "3    От 1 года до 3 лет"
      ]
     },
     "metadata": {},
     "output_type": "display_data"
    }
   ],
   "source": [
    "# результат запроса\n",
    "experience_must = pd.read_sql_query(query_4_5, connection)\n",
    "display(experience_must)"
   ]
  },
  {
   "cell_type": "markdown",
   "id": "oq2b7n1QpIka",
   "metadata": {
    "id": "oq2b7n1QpIka"
   },
   "source": [
    "***"
   ]
  },
  {
   "cell_type": "markdown",
   "id": "b2289273",
   "metadata": {},
   "source": [
    "Выводы:\n",
    "1. Топ 5 регионов по кол-ву вакансий:\n",
    "    1. Москва: 5333 вакансии\n",
    "    2. Санкт-Петербург: 2851\n",
    "    3. Минск: 2112\n",
    "    4. Новосибирск: 2006\n",
    "    5. Алматы: 1892\n",
    "\n",
    "Такое распределение связано с густым населением регионов, чем больше потенциальных работников имеется в регионе, тем большее количество вакансий будет предложено.\n",
    "\n",
    "2. Чуть меньше чем у половины вакансий (24 тыс.) заполнена заработная плата.\n",
    "\n",
    "Вывод: большая половина вакансий ориентирована на сдельную заработную плату.\n",
    "\n",
    "3. Оплата труда в среднем варьируется от 71 тыс. до 110 тыс. рублей\n",
    "\n",
    "4. Больше половины вакансий (35 тыс.) предлагают постоянную работу (полный день и полную занятость)\n",
    "\n",
    "Компаниям не хватает штатных сотрудников.\n",
    "\n",
    "5. Большинство вакансий ориентированно на молодых специалистов с опытом работы от 1 года до 3 лет"
   ]
  },
  {
   "cell_type": "markdown",
   "id": "7ea20ab6-04a7-40a0-adec-443a0e5a42c3",
   "metadata": {
    "id": "7ea20ab6-04a7-40a0-adec-443a0e5a42c3"
   },
   "source": [
    "# Юнит 5. Анализ работодателей"
   ]
  },
  {
   "cell_type": "markdown",
   "id": "968aed80-74ef-4ffb-b5bf-c65b84e9caea",
   "metadata": {
    "id": "968aed80-74ef-4ffb-b5bf-c65b84e9caea"
   },
   "source": [
    "1. Напишите запрос, который позволит узнать, какие работодатели находятся на первом и пятом месте по количеству вакансий."
   ]
  },
  {
   "cell_type": "code",
   "execution_count": 45,
   "id": "f2d62796-d400-4ec1-a675-88112739a50e",
   "metadata": {
    "id": "f2d62796-d400-4ec1-a675-88112739a50e"
   },
   "outputs": [],
   "source": [
    "# текст запроса\n",
    "query_5_1 = f'''\n",
    "with x as\n",
    "(\n",
    "select\n",
    "    e.name employ_name,\n",
    "    count(v.id) vacancies_count\n",
    "from vacancies as v\n",
    "    join employers as e on e.id = v.employer_id\n",
    "group by e.name\n",
    "order by count(v.id) desc\n",
    "limit 5\n",
    ")\n",
    "\n",
    "(select \n",
    "    employ_name\n",
    "from x\n",
    "limit 1)\n",
    "\n",
    "union all\n",
    "\n",
    "(select \n",
    "    employ_name\n",
    "from x\n",
    "order by vacancies_count\n",
    "limit 1)\n",
    "'''"
   ]
  },
  {
   "cell_type": "code",
   "execution_count": 46,
   "id": "64tOMkAxqkQk",
   "metadata": {
    "id": "64tOMkAxqkQk"
   },
   "outputs": [
    {
     "data": {
      "text/html": [
       "<div>\n",
       "<style scoped>\n",
       "    .dataframe tbody tr th:only-of-type {\n",
       "        vertical-align: middle;\n",
       "    }\n",
       "\n",
       "    .dataframe tbody tr th {\n",
       "        vertical-align: top;\n",
       "    }\n",
       "\n",
       "    .dataframe thead th {\n",
       "        text-align: right;\n",
       "    }\n",
       "</style>\n",
       "<table border=\"1\" class=\"dataframe\">\n",
       "  <thead>\n",
       "    <tr style=\"text-align: right;\">\n",
       "      <th></th>\n",
       "      <th>employ_name</th>\n",
       "    </tr>\n",
       "  </thead>\n",
       "  <tbody>\n",
       "    <tr>\n",
       "      <th>0</th>\n",
       "      <td>Яндекс</td>\n",
       "    </tr>\n",
       "    <tr>\n",
       "      <th>1</th>\n",
       "      <td>Газпром нефть</td>\n",
       "    </tr>\n",
       "  </tbody>\n",
       "</table>\n",
       "</div>"
      ],
      "text/plain": [
       "     employ_name\n",
       "0         Яндекс\n",
       "1  Газпром нефть"
      ]
     },
     "metadata": {},
     "output_type": "display_data"
    }
   ],
   "source": [
    "# результат запроса\n",
    "employ_top = pd.read_sql_query(query_5_1, connection)\n",
    "display(employ_top)"
   ]
  },
  {
   "cell_type": "markdown",
   "id": "68377cfc-b378-43dc-ab7d-1195abf2c515",
   "metadata": {
    "id": "68377cfc-b378-43dc-ab7d-1195abf2c515"
   },
   "source": [
    "2. Напишите запрос, который для каждого региона выведет количество работодателей и вакансий в нём.\n",
    "Среди регионов, в которых нет вакансий, найдите тот, в котором наибольшее количество работодателей.\n"
   ]
  },
  {
   "cell_type": "code",
   "execution_count": 47,
   "id": "dd7df27a-e3e8-412e-a21a-5d389b71e891",
   "metadata": {
    "id": "dd7df27a-e3e8-412e-a21a-5d389b71e891"
   },
   "outputs": [],
   "source": [
    "# текст запроса\n",
    "query_5_2 = f'''\n",
    "select\n",
    "    a.name area_name,\n",
    "    count(e.name) employ_cnt,\n",
    "    count(v.name) vacan_cnt\n",
    "from areas as a\n",
    "    left outer join employers as e on e.area = a.id\n",
    "    left outer join vacancies as v on v.area_id = a.id and v.employer_id = e.id\n",
    "group by a.name\n",
    "order by count(v.name), count(e.name) desc\n",
    "'''"
   ]
  },
  {
   "cell_type": "code",
   "execution_count": 48,
   "id": "x1ikWbydrbf6",
   "metadata": {
    "id": "x1ikWbydrbf6"
   },
   "outputs": [
    {
     "data": {
      "text/html": [
       "<div>\n",
       "<style scoped>\n",
       "    .dataframe tbody tr th:only-of-type {\n",
       "        vertical-align: middle;\n",
       "    }\n",
       "\n",
       "    .dataframe tbody tr th {\n",
       "        vertical-align: top;\n",
       "    }\n",
       "\n",
       "    .dataframe thead th {\n",
       "        text-align: right;\n",
       "    }\n",
       "</style>\n",
       "<table border=\"1\" class=\"dataframe\">\n",
       "  <thead>\n",
       "    <tr style=\"text-align: right;\">\n",
       "      <th></th>\n",
       "      <th>area_name</th>\n",
       "      <th>employ_cnt</th>\n",
       "      <th>vacan_cnt</th>\n",
       "    </tr>\n",
       "  </thead>\n",
       "  <tbody>\n",
       "    <tr>\n",
       "      <th>0</th>\n",
       "      <td>Россия</td>\n",
       "      <td>410</td>\n",
       "      <td>0</td>\n",
       "    </tr>\n",
       "    <tr>\n",
       "      <th>1</th>\n",
       "      <td>Казахстан</td>\n",
       "      <td>207</td>\n",
       "      <td>0</td>\n",
       "    </tr>\n",
       "    <tr>\n",
       "      <th>2</th>\n",
       "      <td>Московская область</td>\n",
       "      <td>75</td>\n",
       "      <td>0</td>\n",
       "    </tr>\n",
       "    <tr>\n",
       "      <th>3</th>\n",
       "      <td>Великобритания</td>\n",
       "      <td>23</td>\n",
       "      <td>0</td>\n",
       "    </tr>\n",
       "    <tr>\n",
       "      <th>4</th>\n",
       "      <td>Краснодарский край</td>\n",
       "      <td>19</td>\n",
       "      <td>0</td>\n",
       "    </tr>\n",
       "    <tr>\n",
       "      <th>...</th>\n",
       "      <td>...</td>\n",
       "      <td>...</td>\n",
       "      <td>...</td>\n",
       "    </tr>\n",
       "    <tr>\n",
       "      <th>1357</th>\n",
       "      <td>Екатеринбург</td>\n",
       "      <td>1166</td>\n",
       "      <td>960</td>\n",
       "    </tr>\n",
       "    <tr>\n",
       "      <th>1358</th>\n",
       "      <td>Алматы</td>\n",
       "      <td>1276</td>\n",
       "      <td>1069</td>\n",
       "    </tr>\n",
       "    <tr>\n",
       "      <th>1359</th>\n",
       "      <td>Санкт-Петербург</td>\n",
       "      <td>3069</td>\n",
       "      <td>1811</td>\n",
       "    </tr>\n",
       "    <tr>\n",
       "      <th>1360</th>\n",
       "      <td>Минск</td>\n",
       "      <td>2228</td>\n",
       "      <td>1858</td>\n",
       "    </tr>\n",
       "    <tr>\n",
       "      <th>1361</th>\n",
       "      <td>Москва</td>\n",
       "      <td>8554</td>\n",
       "      <td>4567</td>\n",
       "    </tr>\n",
       "  </tbody>\n",
       "</table>\n",
       "<p>1362 rows × 3 columns</p>\n",
       "</div>"
      ],
      "text/plain": [
       "               area_name  employ_cnt  vacan_cnt\n",
       "0                 Россия         410          0\n",
       "1              Казахстан         207          0\n",
       "2     Московская область          75          0\n",
       "3         Великобритания          23          0\n",
       "4     Краснодарский край          19          0\n",
       "...                  ...         ...        ...\n",
       "1357        Екатеринбург        1166        960\n",
       "1358              Алматы        1276       1069\n",
       "1359     Санкт-Петербург        3069       1811\n",
       "1360               Минск        2228       1858\n",
       "1361              Москва        8554       4567\n",
       "\n",
       "[1362 rows x 3 columns]"
      ]
     },
     "metadata": {},
     "output_type": "display_data"
    }
   ],
   "source": [
    "# результат запроса\n",
    "area_v_e_count = pd.read_sql_query(query_5_2, connection)\n",
    "display(area_v_e_count)"
   ]
  },
  {
   "cell_type": "markdown",
   "id": "f2fe0acb-ab1a-4e15-9326-2560e22d73c1",
   "metadata": {
    "id": "f2fe0acb-ab1a-4e15-9326-2560e22d73c1"
   },
   "source": [
    "3. Для каждого работодателя посчитайте количество регионов, в которых он публикует свои вакансии. Отсортируйте результат по убыванию количества.\n"
   ]
  },
  {
   "cell_type": "code",
   "execution_count": 49,
   "id": "6271f8ad-bd2e-4196-ae4a-5b39c4c1010e",
   "metadata": {
    "id": "6271f8ad-bd2e-4196-ae4a-5b39c4c1010e"
   },
   "outputs": [],
   "source": [
    "# текст запроса\n",
    "query_5_3 = f'''\n",
    "select\n",
    "    e.name employer,\n",
    "    count(distinct a.name) area_cnt\n",
    "from vacancies as v\n",
    "    join areas as a on a.id = v.area_id\n",
    "    join employers as e on e.id = v.employer_id\n",
    "group by e.name\n",
    "order by count(a.name) desc\n",
    "'''"
   ]
  },
  {
   "cell_type": "code",
   "execution_count": 50,
   "id": "1EIvX3HasH4F",
   "metadata": {
    "id": "1EIvX3HasH4F"
   },
   "outputs": [
    {
     "data": {
      "text/html": [
       "<div>\n",
       "<style scoped>\n",
       "    .dataframe tbody tr th:only-of-type {\n",
       "        vertical-align: middle;\n",
       "    }\n",
       "\n",
       "    .dataframe tbody tr th {\n",
       "        vertical-align: top;\n",
       "    }\n",
       "\n",
       "    .dataframe thead th {\n",
       "        text-align: right;\n",
       "    }\n",
       "</style>\n",
       "<table border=\"1\" class=\"dataframe\">\n",
       "  <thead>\n",
       "    <tr style=\"text-align: right;\">\n",
       "      <th></th>\n",
       "      <th>employer</th>\n",
       "      <th>area_cnt</th>\n",
       "    </tr>\n",
       "  </thead>\n",
       "  <tbody>\n",
       "    <tr>\n",
       "      <th>0</th>\n",
       "      <td>Яндекс</td>\n",
       "      <td>181</td>\n",
       "    </tr>\n",
       "    <tr>\n",
       "      <th>1</th>\n",
       "      <td>Ростелеком</td>\n",
       "      <td>152</td>\n",
       "    </tr>\n",
       "    <tr>\n",
       "      <th>2</th>\n",
       "      <td>Тинькофф</td>\n",
       "      <td>43</td>\n",
       "    </tr>\n",
       "    <tr>\n",
       "      <th>3</th>\n",
       "      <td>СБЕР</td>\n",
       "      <td>24</td>\n",
       "    </tr>\n",
       "    <tr>\n",
       "      <th>4</th>\n",
       "      <td>Газпром нефть</td>\n",
       "      <td>24</td>\n",
       "    </tr>\n",
       "    <tr>\n",
       "      <th>...</th>\n",
       "      <td>...</td>\n",
       "      <td>...</td>\n",
       "    </tr>\n",
       "    <tr>\n",
       "      <th>14761</th>\n",
       "      <td>ПСБ Инновации и Инвестиции</td>\n",
       "      <td>1</td>\n",
       "    </tr>\n",
       "    <tr>\n",
       "      <th>14762</th>\n",
       "      <td>ПСЗ Янтарь</td>\n",
       "      <td>1</td>\n",
       "    </tr>\n",
       "    <tr>\n",
       "      <th>14763</th>\n",
       "      <td>ПСК</td>\n",
       "      <td>1</td>\n",
       "    </tr>\n",
       "    <tr>\n",
       "      <th>14764</th>\n",
       "      <td>Псковский завод механических приводов</td>\n",
       "      <td>1</td>\n",
       "    </tr>\n",
       "    <tr>\n",
       "      <th>14765</th>\n",
       "      <td>ПСК ТатЭнергоСтрой</td>\n",
       "      <td>1</td>\n",
       "    </tr>\n",
       "  </tbody>\n",
       "</table>\n",
       "<p>14766 rows × 2 columns</p>\n",
       "</div>"
      ],
      "text/plain": [
       "                                    employer  area_cnt\n",
       "0                                     Яндекс       181\n",
       "1                                 Ростелеком       152\n",
       "2                                   Тинькофф        43\n",
       "3                                       СБЕР        24\n",
       "4                              Газпром нефть        24\n",
       "...                                      ...       ...\n",
       "14761             ПСБ Инновации и Инвестиции         1\n",
       "14762                             ПСЗ Янтарь         1\n",
       "14763                                    ПСК         1\n",
       "14764  Псковский завод механических приводов         1\n",
       "14765                     ПСК ТатЭнергоСтрой         1\n",
       "\n",
       "[14766 rows x 2 columns]"
      ]
     },
     "metadata": {},
     "output_type": "display_data"
    }
   ],
   "source": [
    "# результат запроса\n",
    "employ_area_cnt = pd.read_sql_query(query_5_3, connection)\n",
    "display(employ_area_cnt)"
   ]
  },
  {
   "cell_type": "markdown",
   "id": "eab2206d-d95b-468b-8e5f-34381abf0ce7",
   "metadata": {
    "id": "eab2206d-d95b-468b-8e5f-34381abf0ce7"
   },
   "source": [
    "4. Напишите запрос для подсчёта количества работодателей, у которых не указана сфера деятельности. "
   ]
  },
  {
   "cell_type": "code",
   "execution_count": 51,
   "id": "80defb23-bfb1-4a18-8be6-bf36aa7165d5",
   "metadata": {
    "id": "80defb23-bfb1-4a18-8be6-bf36aa7165d5"
   },
   "outputs": [],
   "source": [
    "# текст запроса\n",
    "query_5_4 = f'''\n",
    "select\n",
    "    count(e.id)\n",
    "from employers as e\n",
    "    left outer join employers_industries as ei on ei.employer_id = e.id\n",
    "where employer_id is NULL\n",
    "'''"
   ]
  },
  {
   "cell_type": "code",
   "execution_count": 52,
   "id": "Dp_yCx6ysQSu",
   "metadata": {
    "id": "Dp_yCx6ysQSu"
   },
   "outputs": [
    {
     "name": "stdout",
     "output_type": "stream",
     "text": [
      "У 8419 работадателей не указана сфера деятельности\n"
     ]
    }
   ],
   "source": [
    "# результат запроса\n",
    "employer_industryless = pd.read_sql_query(query_5_4, connection)[\"count\"][0]\n",
    "print(f\"У {employer_industryless} работадателей не указана сфера деятельности\")"
   ]
  },
  {
   "cell_type": "markdown",
   "id": "0112af31-f6b0-4e3b-82ab-71296e752e5e",
   "metadata": {
    "id": "0112af31-f6b0-4e3b-82ab-71296e752e5e"
   },
   "source": [
    "5. Напишите запрос, чтобы узнать название компании, находящейся на третьем месте в алфавитном списке (по названию) компаний, у которых указано четыре сферы деятельности. "
   ]
  },
  {
   "cell_type": "code",
   "execution_count": 53,
   "id": "973b0cfc-a972-470a-8b4a-68744ef220c4",
   "metadata": {
    "id": "973b0cfc-a972-470a-8b4a-68744ef220c4"
   },
   "outputs": [],
   "source": [
    "# текст запроса\n",
    "query_5_5 = f'''\n",
    "select\n",
    "    e.name\n",
    "from employers as e\n",
    "    full outer join employers_industries as ei on ei.employer_id = e.id\n",
    "group by e.name\n",
    "having count(ei.industry_id) = 4\n",
    "order by e.name\n",
    "offset 2\n",
    "limit 1\n",
    "'''"
   ]
  },
  {
   "cell_type": "code",
   "execution_count": 54,
   "id": "xsPtpp8EsaED",
   "metadata": {
    "id": "xsPtpp8EsaED"
   },
   "outputs": [
    {
     "name": "stdout",
     "output_type": "stream",
     "text": [
      "Работадатель \"2ГИС\" указал ровно 4 сферы деятельности и расположен на 3 месте в алфавитном порядке компаний, которые указали столько же сфер деятельности\n"
     ]
    }
   ],
   "source": [
    "# результат запроса\n",
    "third_employer = pd.read_sql_query(query_5_5, connection).iloc[0][0]\n",
    "print(f\"Работадатель \\\"{third_employer}\\\" указал ровно 4 сферы деятельности и расположен на 3 месте в алфавитном порядке компаний, которые указали столько же сфер деятельности\")"
   ]
  },
  {
   "cell_type": "markdown",
   "id": "3bfcfdaf-755d-4d2b-8ed8-326201dc07ab",
   "metadata": {
    "id": "3bfcfdaf-755d-4d2b-8ed8-326201dc07ab"
   },
   "source": [
    "6. С помощью запроса выясните, у какого количества работодателей в качестве сферы деятельности указана Разработка программного обеспечения.\n"
   ]
  },
  {
   "cell_type": "code",
   "execution_count": 55,
   "id": "ad3f270f-2991-47eb-929b-e8f88a55b0d1",
   "metadata": {
    "id": "ad3f270f-2991-47eb-929b-e8f88a55b0d1"
   },
   "outputs": [],
   "source": [
    "# текст запроса\n",
    "query_5_6 = f'''\n",
    "select\n",
    "    count(e.name)\n",
    "from employers as e\n",
    "    join employers_industries as ei on ei.employer_id = e.id\n",
    "    join industries as i on i.id = ei.industry_id\n",
    "where i.name = 'Разработка программного обеспечения'\n",
    "'''"
   ]
  },
  {
   "cell_type": "code",
   "execution_count": 56,
   "id": "H72qxWM0shPR",
   "metadata": {
    "id": "H72qxWM0shPR"
   },
   "outputs": [
    {
     "name": "stdout",
     "output_type": "stream",
     "text": [
      "3553 работадателей в сфере разработки программного обеспечения\n"
     ]
    }
   ],
   "source": [
    "# результат запроса\n",
    "employer_it_cnt = pd.read_sql_query(query_5_6, connection)[\"count\"][0]\n",
    "print(f\"{employer_it_cnt} работадателей в сфере разработки программного обеспечения\")"
   ]
  },
  {
   "cell_type": "markdown",
   "id": "7b02bb86-0546-40fb-94a4-242f050a5c57",
   "metadata": {
    "id": "7b02bb86-0546-40fb-94a4-242f050a5c57"
   },
   "source": [
    "7. Для компании «Яндекс» выведите список регионов-миллионников, в которых представлены вакансии компании, вместе с количеством вакансий в этих регионах. Также добавьте строку Total с общим количеством вакансий компании. Результат отсортируйте по возрастанию количества.\n",
    "\n",
    "Список городов-милионников надо взять [отсюда](https://ru.wikipedia.org/wiki/%D0%93%D0%BE%D1%80%D0%BE%D0%B4%D0%B0-%D0%BC%D0%B8%D0%BB%D0%BB%D0%B8%D0%BE%D0%BD%D0%B5%D1%80%D1%8B_%D0%A0%D0%BE%D1%81%D1%81%D0%B8%D0%B8). \n",
    "\n",
    "Если возникнут трудности с этим задание посмотрите материалы модуля  PYTHON-17. Как получать данные из веб-источников и API. "
   ]
  },
  {
   "cell_type": "code",
   "execution_count": 57,
   "id": "ZdfrL6gIs1Pn",
   "metadata": {
    "id": "ZdfrL6gIs1Pn"
   },
   "outputs": [],
   "source": [
    "# код для получения списка городов-милионников\n",
    "def get_city_list(mode=\"million\"):\n",
    "    '''\n",
    "    Функция для получения городов миллионников с сайта википедии\n",
    "\n",
    "    Inputs:\n",
    "        mode (str, optional): Выборка городов (million, submillion, all). Default to \"million\"\n",
    "    \n",
    "    Outputs:\n",
    "        list\n",
    "    '''\n",
    "    import requests\n",
    "    from bs4 import BeautifulSoup\n",
    "\n",
    "    url = r\"https://ru.wikipedia.org/wiki/%D0%93%D0%BE%D1%80%D0%BE%D0%B4%D0%B0-%D0%BC%D0%B8%D0%BB%D0%BB%D0%B8%D0%BE%D0%BD%D0%B5%D1%80%D1%8B_%D0%A0%D0%BE%D1%81%D1%81%D0%B8%D0%B8\"\n",
    "\n",
    "    result = requests.get(url)\n",
    "    if result.status_code == 200:\n",
    "        page = result.text\n",
    "    else:\n",
    "        print(\"Error: Status code:\", result.status_code)\n",
    "        return []\n",
    "\n",
    "    soup = BeautifulSoup(page, \"html.parser\")\n",
    "\n",
    "    if mode in (\"million\", \"submillion\", \"all\"):\n",
    "        start, stop = {\n",
    "            \"million\": (0, 1),\n",
    "            \"submillion\": (1, 2),\n",
    "            \"all\": (0, 2)}[mode]\n",
    "    else:\n",
    "        start, stop = 0, 1\n",
    "    \n",
    "    citys = list()\n",
    "    for table in soup.find_all(\"table\")[start:stop]:\n",
    "        for row in table.find_all(\"tr\")[1:]:\n",
    "            citys.append(row.find_all(\"td\")[1].text.replace(\"\\n\", \"\"))\n",
    "\n",
    "    return citys"
   ]
  },
  {
   "cell_type": "code",
   "execution_count": 58,
   "id": "5a0e32a4-e68a-4365-8a39-2fe24c542c36",
   "metadata": {
    "id": "5a0e32a4-e68a-4365-8a39-2fe24c542c36"
   },
   "outputs": [],
   "source": [
    "# текст запроса\n",
    "million_citys = tuple(get_city_list())\n",
    "query_5_7 = f'''\n",
    "(select\n",
    "    a.name city_name,\n",
    "    count(v.id) cnt\n",
    "from vacancies as v\n",
    "    join employers as e on e.id = v.employer_id\n",
    "    join areas as a on a.id = v.area_id\n",
    "where e.name = 'Яндекс' and a.name in {million_citys}\n",
    "group by a.name)\n",
    "\n",
    "union all\n",
    "\n",
    "(select\n",
    "    'Total',\n",
    "    count(v.id)\n",
    "from vacancies as v\n",
    "    join employers as e on e.id = v.employer_id\n",
    "    join areas as a on a.id = v.area_id\n",
    "where e.name = 'Яндекс' and a.name in {million_citys})\n",
    "order by cnt\n",
    "'''"
   ]
  },
  {
   "cell_type": "code",
   "execution_count": 59,
   "id": "ttPhiO1rsvPq",
   "metadata": {
    "id": "ttPhiO1rsvPq"
   },
   "outputs": [
    {
     "data": {
      "text/html": [
       "<div>\n",
       "<style scoped>\n",
       "    .dataframe tbody tr th:only-of-type {\n",
       "        vertical-align: middle;\n",
       "    }\n",
       "\n",
       "    .dataframe tbody tr th {\n",
       "        vertical-align: top;\n",
       "    }\n",
       "\n",
       "    .dataframe thead th {\n",
       "        text-align: right;\n",
       "    }\n",
       "</style>\n",
       "<table border=\"1\" class=\"dataframe\">\n",
       "  <thead>\n",
       "    <tr style=\"text-align: right;\">\n",
       "      <th></th>\n",
       "      <th>city_name</th>\n",
       "      <th>cnt</th>\n",
       "    </tr>\n",
       "  </thead>\n",
       "  <tbody>\n",
       "    <tr>\n",
       "      <th>0</th>\n",
       "      <td>Омск</td>\n",
       "      <td>21</td>\n",
       "    </tr>\n",
       "    <tr>\n",
       "      <th>1</th>\n",
       "      <td>Челябинск</td>\n",
       "      <td>22</td>\n",
       "    </tr>\n",
       "    <tr>\n",
       "      <th>2</th>\n",
       "      <td>Красноярск</td>\n",
       "      <td>23</td>\n",
       "    </tr>\n",
       "    <tr>\n",
       "      <th>3</th>\n",
       "      <td>Волгоград</td>\n",
       "      <td>24</td>\n",
       "    </tr>\n",
       "    <tr>\n",
       "      <th>4</th>\n",
       "      <td>Пермь</td>\n",
       "      <td>25</td>\n",
       "    </tr>\n",
       "    <tr>\n",
       "      <th>5</th>\n",
       "      <td>Казань</td>\n",
       "      <td>25</td>\n",
       "    </tr>\n",
       "    <tr>\n",
       "      <th>6</th>\n",
       "      <td>Ростов-на-Дону</td>\n",
       "      <td>25</td>\n",
       "    </tr>\n",
       "    <tr>\n",
       "      <th>7</th>\n",
       "      <td>Уфа</td>\n",
       "      <td>26</td>\n",
       "    </tr>\n",
       "    <tr>\n",
       "      <th>8</th>\n",
       "      <td>Самара</td>\n",
       "      <td>26</td>\n",
       "    </tr>\n",
       "    <tr>\n",
       "      <th>9</th>\n",
       "      <td>Краснодар</td>\n",
       "      <td>30</td>\n",
       "    </tr>\n",
       "    <tr>\n",
       "      <th>10</th>\n",
       "      <td>Воронеж</td>\n",
       "      <td>32</td>\n",
       "    </tr>\n",
       "    <tr>\n",
       "      <th>11</th>\n",
       "      <td>Новосибирск</td>\n",
       "      <td>35</td>\n",
       "    </tr>\n",
       "    <tr>\n",
       "      <th>12</th>\n",
       "      <td>Нижний Новгород</td>\n",
       "      <td>36</td>\n",
       "    </tr>\n",
       "    <tr>\n",
       "      <th>13</th>\n",
       "      <td>Екатеринбург</td>\n",
       "      <td>39</td>\n",
       "    </tr>\n",
       "    <tr>\n",
       "      <th>14</th>\n",
       "      <td>Санкт-Петербург</td>\n",
       "      <td>42</td>\n",
       "    </tr>\n",
       "    <tr>\n",
       "      <th>15</th>\n",
       "      <td>Москва</td>\n",
       "      <td>54</td>\n",
       "    </tr>\n",
       "    <tr>\n",
       "      <th>16</th>\n",
       "      <td>Total</td>\n",
       "      <td>485</td>\n",
       "    </tr>\n",
       "  </tbody>\n",
       "</table>\n",
       "</div>"
      ],
      "text/plain": [
       "          city_name  cnt\n",
       "0              Омск   21\n",
       "1         Челябинск   22\n",
       "2        Красноярск   23\n",
       "3         Волгоград   24\n",
       "4             Пермь   25\n",
       "5            Казань   25\n",
       "6    Ростов-на-Дону   25\n",
       "7               Уфа   26\n",
       "8            Самара   26\n",
       "9         Краснодар   30\n",
       "10          Воронеж   32\n",
       "11      Новосибирск   35\n",
       "12  Нижний Новгород   36\n",
       "13     Екатеринбург   39\n",
       "14  Санкт-Петербург   42\n",
       "15           Москва   54\n",
       "16            Total  485"
      ]
     },
     "metadata": {},
     "output_type": "display_data"
    }
   ],
   "source": [
    "# результат запроса\n",
    "yandex_million_city = pd.read_sql_query(query_5_7, connection)\n",
    "display(yandex_million_city)"
   ]
  },
  {
   "cell_type": "markdown",
   "id": "04966e40-3bc3-4dc8-9ba2-e80580ce3abc",
   "metadata": {
    "id": "04966e40-3bc3-4dc8-9ba2-e80580ce3abc"
   },
   "source": [
    "***"
   ]
  },
  {
   "cell_type": "markdown",
   "id": "ffa0c5bc",
   "metadata": {},
   "source": [
    "Выводы:\n",
    "1. Среди всех регионов, на первом месте по кол-ву вакансий находится компания ***\"Яндекс\"***, на пятом ***\"Газпром нефть\"***.\n",
    "2. В **России** 410 работодателей и ни одной вакансии.\n",
    "\n",
    "Вероятно в России прогрессирует дифицид рабочих мест.\n",
    "\n",
    "3. Топ 3 работадателя с самым широким охватом:\n",
    "\t1. Яндекс: 181 регион с вакансиями;\n",
    "\t2. Ростелеком: 152 региона;\n",
    "\t3. Тинькофф: 43 региона.\n",
    "4. У 8,5 тыс. работадателей **не указана** сфера деятельности.\n",
    "5. 3,5 тыс. работадателей работают в сфере `разработки программного обеспечения`.\n",
    "6. Компания ***\"Яндекс\"*** всего предлагает 485 вакансий в городах миллионниках.\n",
    "Наибольшее кол-во вакансий предложено в **Москве** (54 вакансии), меньше всего в **Омске** (21 вакансия) среди городов миллионников."
   ]
  },
  {
   "cell_type": "markdown",
   "id": "b1ef156a-efcb-49ce-bb23-90763e7f35b2",
   "metadata": {
    "id": "b1ef156a-efcb-49ce-bb23-90763e7f35b2",
    "tags": []
   },
   "source": [
    "# Юнит 6. Предметный анализ"
   ]
  },
  {
   "cell_type": "markdown",
   "id": "b9cd50a0-992d-4988-8463-2b2b1c4629b4",
   "metadata": {
    "id": "b9cd50a0-992d-4988-8463-2b2b1c4629b4"
   },
   "source": [
    "1. Сколько вакансий имеет отношение к данным?\n",
    "\n",
    "Считаем, что вакансия имеет отношение к данным, если в её названии содержатся слова 'data' или 'данн'.\n",
    "\n",
    "*Подсказка: Обратите внимание, что названия вакансий могут быть написаны в любом регистре.* \n"
   ]
  },
  {
   "cell_type": "code",
   "execution_count": 60,
   "id": "54ab0e50-c0f1-47cc-a54b-bc5c8bc363f9",
   "metadata": {
    "id": "54ab0e50-c0f1-47cc-a54b-bc5c8bc363f9"
   },
   "outputs": [],
   "source": [
    "# текст запроса\n",
    "query_6_1 = f'''\n",
    "select count(name) vacan_cnt\n",
    "from vacancies\n",
    "where lower(name) LIKE '%data%' or lower(name) LIKE '%данн%'\n",
    "'''"
   ]
  },
  {
   "cell_type": "code",
   "execution_count": 61,
   "id": "9F1meAqsuUjd",
   "metadata": {
    "id": "9F1meAqsuUjd"
   },
   "outputs": [
    {
     "name": "stdout",
     "output_type": "stream",
     "text": [
      "Всего 1771 вакансий связанных с данными\n"
     ]
    }
   ],
   "source": [
    "# результат запроса\n",
    "data_vacan_cnt = pd.read_sql_query(query_6_1, connection).iloc[0][0]\n",
    "print(f\"Всего {data_vacan_cnt} вакансий связанных с данными\")"
   ]
  },
  {
   "cell_type": "markdown",
   "id": "4dea20cb-a36b-474a-a0b9-e08e8e3857a5",
   "metadata": {
    "id": "4dea20cb-a36b-474a-a0b9-e08e8e3857a5"
   },
   "source": [
    "2. Сколько есть подходящих вакансий для начинающего дата-сайентиста? \n",
    "Будем считать вакансиями для дата-сайентистов такие, в названии которых есть хотя бы одно из следующих сочетаний:\n",
    "* 'data scientist'\n",
    "* 'data science'\n",
    "* 'исследователь данных'\n",
    "* 'ML' (здесь не нужно брать вакансии по HTML)\n",
    "* 'machine learning'\n",
    "* 'машинн%обучен%'\n",
    "\n",
    "** В следующих заданиях мы продолжим работать с вакансиями по этому условию.*\n",
    "\n",
    "Считаем вакансиями для специалистов уровня Junior следующие:\n",
    "* в названии есть слово 'junior' *или*\n",
    "* требуемый опыт — Нет опыта *или*\n",
    "* тип трудоустройства — Стажировка.\n",
    " "
   ]
  },
  {
   "cell_type": "code",
   "execution_count": 62,
   "id": "9c61b3c0-bb66-46c9-ae1e-81d3f5752b4a",
   "metadata": {
    "id": "9c61b3c0-bb66-46c9-ae1e-81d3f5752b4a"
   },
   "outputs": [],
   "source": [
    "# текст запроса\n",
    "query_6_2 = f'''\n",
    "select \n",
    "    count(v.name)\n",
    "from vacancies v\n",
    "where\n",
    "    (lower(v.name) LIKE '%data scientist%' OR\n",
    "    lower(v.name) LIKE '%data science%' OR\n",
    "    lower(v.name) LIKE '%исследователь данных%' OR\n",
    "    v.name LIKE '%ML%' and v.name NOT LIKE '%HTML%' and v.name NOT LIKE '%QML%' OR\n",
    "    lower(v.name) LIKE '%machine learning%' OR\n",
    "    lower(v.name) LIKE '%машинн%обучен%') \n",
    "    AND\n",
    "    (lower(v.name) LIKE '%junior%' OR\n",
    "    v.experience LIKE 'Нет опыта' OR\n",
    "    v.employment LIKE 'Стажировка')\n",
    "'''"
   ]
  },
  {
   "cell_type": "code",
   "execution_count": 63,
   "id": "ZNM-LLYuu1dj",
   "metadata": {
    "id": "ZNM-LLYuu1dj"
   },
   "outputs": [
    {
     "name": "stdout",
     "output_type": "stream",
     "text": [
      "Кол-во подходящих вакансий: 51\n"
     ]
    }
   ],
   "source": [
    "# результат запроса\n",
    "suitable_vacan_cnt = pd.read_sql_query(query_6_2, connection).iloc[0][0]\n",
    "print(f\"Кол-во подходящих вакансий: {suitable_vacan_cnt}\")"
   ]
  },
  {
   "cell_type": "markdown",
   "id": "eedceb80-c5ca-480e-b27a-278dfb8b4438",
   "metadata": {
    "id": "eedceb80-c5ca-480e-b27a-278dfb8b4438"
   },
   "source": [
    "3. Сколько есть вакансий для DS, в которых в качестве ключевого навыка указан SQL или postgres?\n",
    "\n",
    "** Критерии для отнесения вакансии к DS указаны в предыдущем задании.*"
   ]
  },
  {
   "cell_type": "code",
   "execution_count": 64,
   "id": "69621713-0cc5-4f1b-a1d7-bb144fa6148c",
   "metadata": {
    "id": "69621713-0cc5-4f1b-a1d7-bb144fa6148c"
   },
   "outputs": [],
   "source": [
    "# текст запроса\n",
    "query_6_3 = f'''\n",
    "select \n",
    "    count(v.name)\n",
    "from vacancies v\n",
    "where\n",
    "    (lower(v.name) LIKE '%data scientist%' OR\n",
    "    lower(v.name) LIKE '%data science%' OR\n",
    "    lower(v.name) LIKE '%исследователь данных%' OR\n",
    "    lower(v.name) LIKE '%ml%' and v.name NOT LIKE '%HTML%' and v.name NOT LIKE '%QML%' OR\n",
    "    lower(v.name) LIKE '%machine learning%' OR\n",
    "    lower(v.name) LIKE '%машинн%обучен%') \n",
    "    AND\n",
    "    (lower(v.key_skills) LIKE '%sql%' or\n",
    "    lower(v.key_skills) LIKE '%postgres%')\n",
    "'''"
   ]
  },
  {
   "cell_type": "code",
   "execution_count": 65,
   "id": "alA8WEAAvGdf",
   "metadata": {
    "id": "alA8WEAAvGdf"
   },
   "outputs": [
    {
     "name": "stdout",
     "output_type": "stream",
     "text": [
      "Кол-во подходящих вакансий: 229\n"
     ]
    }
   ],
   "source": [
    "# результат запроса\n",
    "suitable_vacan_sql_postgres_cnt = pd.read_sql_query(query_6_3, connection).iloc[0][0]\n",
    "print(f\"Кол-во подходящих вакансий: {suitable_vacan_sql_postgres_cnt}\")"
   ]
  },
  {
   "cell_type": "markdown",
   "id": "1be1e9c6-37cf-4a5f-bfeb-04cab799dc80",
   "metadata": {
    "id": "1be1e9c6-37cf-4a5f-bfeb-04cab799dc80"
   },
   "source": [
    "4. Проверьте, насколько популярен Python в требованиях работодателей к DS.Для этого вычислите количество вакансий, в которых в качестве ключевого навыка указан Python.\n",
    "\n",
    "** Это можно сделать помощью запроса, аналогичного предыдущему.*"
   ]
  },
  {
   "cell_type": "code",
   "execution_count": 66,
   "id": "0036a355-9ccf-4564-8b01-73d8194297e7",
   "metadata": {
    "id": "0036a355-9ccf-4564-8b01-73d8194297e7"
   },
   "outputs": [],
   "source": [
    "# текст запроса\n",
    "query_6_4 = f'''\n",
    "select \n",
    "    count(v.name)\n",
    "from vacancies v\n",
    "where\n",
    "    (lower(v.name) LIKE '%data scientist%' OR\n",
    "    lower(v.name) LIKE '%data science%' OR\n",
    "    lower(v.name) LIKE '%исследователь данных%' OR\n",
    "    lower(v.name) LIKE '%ml%' and v.name NOT LIKE '%HTML%' and v.name NOT LIKE '%QML%' OR\n",
    "    lower(v.name) LIKE '%machine learning%' OR\n",
    "    lower(v.name) LIKE '%машинн%обучен%') \n",
    "    AND\n",
    "    lower(v.key_skills) LIKE '%python%'\n",
    "'''"
   ]
  },
  {
   "cell_type": "code",
   "execution_count": 67,
   "id": "1i-5WyucvQ6v",
   "metadata": {
    "id": "1i-5WyucvQ6v"
   },
   "outputs": [
    {
     "name": "stdout",
     "output_type": "stream",
     "text": [
      "Кол-во вакансий для Python разработчика в сфере DS: 357\n"
     ]
    }
   ],
   "source": [
    "# результат запроса\n",
    "python_vac_cnt = pd.read_sql_query(query_6_4, connection).iloc[0][0]\n",
    "print(f\"Кол-во вакансий для Python разработчика в сфере DS: {python_vac_cnt}\")"
   ]
  },
  {
   "cell_type": "markdown",
   "id": "ec3c8db7-fa21-4a41-a994-1af63742a642",
   "metadata": {
    "id": "ec3c8db7-fa21-4a41-a994-1af63742a642"
   },
   "source": [
    "5. Сколько ключевых навыков в среднем указывают в вакансиях для DS?\n",
    "Ответ округлите до двух знаков после точки-разделителя."
   ]
  },
  {
   "cell_type": "code",
   "execution_count": 68,
   "id": "949132bc-d5b6-4611-8218-0b9a504d74f4",
   "metadata": {
    "id": "949132bc-d5b6-4611-8218-0b9a504d74f4"
   },
   "outputs": [],
   "source": [
    "# текст запроса\n",
    "query_6_5 = f'''\n",
    "select\n",
    "round(avg(length(key_skills) - length(replace(key_skills,CHR(9),''))+1),2)\n",
    "\n",
    "from vacancies v\n",
    "\n",
    "WHERE\n",
    "(\n",
    "       (v.name ILIKE '%data scientist%')\n",
    "    OR (lower(v.name) LIKE '%data science%')\n",
    "    OR (v.name ILIKE '%исследователь данных%')\n",
    "    OR (v.name  LIKE '%ML%' AND  (v.name NOT LIKE '%HTML%'))\n",
    "    OR (v.name ILIKE '%machine learning%')\n",
    "    OR (v.name ILIKE '%машинн%обучен%')\n",
    "    AND (key_skills IS NOT NULL)\n",
    ")\n",
    "'''"
   ]
  },
  {
   "cell_type": "code",
   "execution_count": 69,
   "id": "a3V24Tvmviqk",
   "metadata": {
    "id": "a3V24Tvmviqk"
   },
   "outputs": [
    {
     "name": "stdout",
     "output_type": "stream",
     "text": [
      "В среднем на должность DS нужно обладать 6.41 инструментами\n"
     ]
    }
   ],
   "source": [
    "# результат запроса\n",
    "avg_skills_cnt = pd.read_sql_query(query_6_5, connection).iloc[0].round(2)[0]\n",
    "print(f\"В среднем на должность DS нужно обладать {avg_skills_cnt} инструментами\")"
   ]
  },
  {
   "cell_type": "markdown",
   "id": "1041c17a-ca8f-4543-a0ca-32778914fb00",
   "metadata": {
    "id": "1041c17a-ca8f-4543-a0ca-32778914fb00"
   },
   "source": [
    "6. Напишите запрос, позволяющий вычислить, какую зарплату для DS в **среднем** указывают для каждого типа требуемого опыта (уникальное значение из поля *experience*). \n",
    "\n",
    "При решении задачи примите во внимание следующее:\n",
    "1. Рассматриваем только вакансии, у которых заполнено хотя бы одно из двух полей с зарплатой.\n",
    "2. Если заполнены оба поля с зарплатой, то считаем зарплату по каждой вакансии как сумму двух полей, делённую на 2. Если заполнено только одно из полей, то его и считаем зарплатой по вакансии.\n",
    "3. Если в расчётах участвует null, в результате он тоже даст null (посмотрите, что возвращает запрос select 1 + null). Чтобы избежать этой ситуацию, мы воспользуемся функцией [coalesce](https://postgrespro.ru/docs/postgresql/9.5/functions-conditional#functions-coalesce-nvl-ifnull), которая заменит null на значение, которое мы передадим. Например, посмотрите, что возвращает запрос `select 1 + coalesce(null, 0)`\n",
    "\n",
    "Выясните, на какую зарплату в среднем может рассчитывать дата-сайентист с опытом работы от 3 до 6 лет. Результат округлите до целого числа. "
   ]
  },
  {
   "cell_type": "code",
   "execution_count": 70,
   "id": "6a743d39-5204-48d3-8271-b9f88e68d40e",
   "metadata": {
    "id": "6a743d39-5204-48d3-8271-b9f88e68d40e"
   },
   "outputs": [],
   "source": [
    "# текст запроса\n",
    "query_6_6 = f'''\n",
    "with filtered_table as (\n",
    "    select * \n",
    "from vacancies v\n",
    "where\n",
    "    (\n",
    "        (v.name ILIKE '%data scientist%')\n",
    "        OR (v.name ILIKE '%data science%')\n",
    "        OR (v.name ILIKE '%исследователь данных%')\n",
    "        OR (v.name  LIKE '%ML%' AND  (v.name NOT LIKE '%HTML%'))\n",
    "        OR (v.name ILIKE '%machine learning%')\n",
    "        OR (v.name ILIKE '%машинн%обучен%')\n",
    "    ) \n",
    ")\n",
    "\n",
    "select\n",
    "    experience,\n",
    "    round(avg((coalesce(salary_from, salary_to) + coalesce(salary_to, salary_from)) / 2)) as avg_salary\n",
    "from filtered_table\n",
    "where\n",
    "    salary_from is not NULL or salary_to is not NULL\n",
    "group by experience\n",
    "\n",
    "'''"
   ]
  },
  {
   "cell_type": "code",
   "execution_count": 71,
   "id": "aRIJ0mZEwU1_",
   "metadata": {
    "id": "aRIJ0mZEwU1_"
   },
   "outputs": [
    {
     "data": {
      "text/html": [
       "<div>\n",
       "<style scoped>\n",
       "    .dataframe tbody tr th:only-of-type {\n",
       "        vertical-align: middle;\n",
       "    }\n",
       "\n",
       "    .dataframe tbody tr th {\n",
       "        vertical-align: top;\n",
       "    }\n",
       "\n",
       "    .dataframe thead th {\n",
       "        text-align: right;\n",
       "    }\n",
       "</style>\n",
       "<table border=\"1\" class=\"dataframe\">\n",
       "  <thead>\n",
       "    <tr style=\"text-align: right;\">\n",
       "      <th></th>\n",
       "      <th>experience</th>\n",
       "      <th>avg_salary</th>\n",
       "    </tr>\n",
       "  </thead>\n",
       "  <tbody>\n",
       "    <tr>\n",
       "      <th>0</th>\n",
       "      <td>От 3 до 6 лет</td>\n",
       "      <td>243115.0</td>\n",
       "    </tr>\n",
       "    <tr>\n",
       "      <th>1</th>\n",
       "      <td>От 1 года до 3 лет</td>\n",
       "      <td>139675.0</td>\n",
       "    </tr>\n",
       "    <tr>\n",
       "      <th>2</th>\n",
       "      <td>Нет опыта</td>\n",
       "      <td>74643.0</td>\n",
       "    </tr>\n",
       "  </tbody>\n",
       "</table>\n",
       "</div>"
      ],
      "text/plain": [
       "           experience  avg_salary\n",
       "0       От 3 до 6 лет    243115.0\n",
       "1  От 1 года до 3 лет    139675.0\n",
       "2           Нет опыта     74643.0"
      ]
     },
     "execution_count": 71,
     "metadata": {},
     "output_type": "execute_result"
    }
   ],
   "source": [
    "# результат запроса\n",
    "table = pd.read_sql_query(query_6_6, connection)\n",
    "table"
   ]
  },
  {
   "cell_type": "markdown",
   "id": "6a7892b4-4113-4746-adce-18aa2844f18e",
   "metadata": {
    "id": "6a7892b4-4113-4746-adce-18aa2844f18e"
   },
   "source": [
    "***"
   ]
  },
  {
   "cell_type": "markdown",
   "id": "bae06722",
   "metadata": {},
   "source": [
    "Выводы:\n",
    "1. Всего 1771 вакансия, которая связана с работой с данными.\n",
    "2. Для начинающего (junior) дата саинтиста существует 51 вакансия (около 3% от общего числа вакансий в этом направлении).\n",
    "3. Количество вакансий в которых требуется знание SQL или PostgreSQL насчитывает 229 (12% от общего числа вакансий).\n",
    "4. Знание Python указали в 357 вакансиях для работы с данными или 20% от общего числа вакансий.\n",
    "\n",
    "Python - это быстро прогрессирующий язык программирования, который был создан для анализа данных, поэтому все больше компаний требуют знание данного языка.\n",
    "\n",
    "5. В среднем на должность связанную с обработкой данных требуется владение 6 - 7 различными инструментами или навыками по работе с данными.\n",
    "6. Средняя заработная плата указываемая на должность дата саинтиста сгруппированная по опыту работы:\n",
    "\t* От 3 до 6 лет: 243 115 руб.\n",
    "\t* От 1 года до 3 лет: 139 675 руб.\n",
    "\t* Без опыта: 74 643 руб."
   ]
  },
  {
   "cell_type": "markdown",
   "id": "c0ED6fh7wiBT",
   "metadata": {
    "id": "c0ED6fh7wiBT"
   },
   "source": [
    "# Общий вывод по проекту"
   ]
  },
  {
   "cell_type": "markdown",
   "id": "1276ccf5",
   "metadata": {},
   "source": [
    "В среднем, каждый работодатель предлагает по 2 вакансии. \n",
    "Среднее кол-во работодателей в каждом регионе - 17, а на каждую сферу деятельности предлагают в среднем по 167 вакансий. \n",
    "Имеется в среднем по 80 работодателей на каждую сферу деятельности.\n",
    "Проще всего найти подходящую работу в Москве, так как там больше всего вакансий.\n",
    "Лидирующую позицию на рынке имеет компания \"Яндекс\". Она имеет самый широкий охват регионов.\n",
    "Среди всех вакансий, лишь 1771 вакансия имеет отношение к данным, где оплата труда стартует в среднем от 74 тыс. рублей."
   ]
  },
  {
   "cell_type": "markdown",
   "id": "0222c3b5",
   "metadata": {},
   "source": [
    "# Дополнительные исследования"
   ]
  },
  {
   "cell_type": "markdown",
   "id": "e424e6e1",
   "metadata": {},
   "source": [
    "Проведем дополнительное исследование и дополним наш вывод:"
   ]
  },
  {
   "cell_type": "markdown",
   "id": "72d95971",
   "metadata": {},
   "source": [
    "Найдем среднюю оплату труда в Москве, количество вакансий компании \"Яндекс\" связанные с данными и среднюю оплату труда компании \"Яндекс\" в Москве в сфере DS."
   ]
  },
  {
   "cell_type": "markdown",
   "id": "b20a81c4",
   "metadata": {},
   "source": [
    "1. Найти среднюю оплату труда в Москве."
   ]
  },
  {
   "cell_type": "code",
   "execution_count": 72,
   "id": "1eea5d9a",
   "metadata": {},
   "outputs": [],
   "source": [
    "my_query1 = f'''\n",
    "select\n",
    "    round(avg((COALESCE(v.salary_to, v.salary_from) + COALESCE(v.salary_from, v.salary_to)) / 2), 2)\n",
    "from vacancies v\n",
    "    join areas a on a.id = v.area_id\n",
    "where\n",
    "    a.name = 'Москва' and\n",
    "    (v.salary_to is not NULL or v.salary_from is not NULL)\n",
    "'''"
   ]
  },
  {
   "cell_type": "code",
   "execution_count": 73,
   "id": "f585576e",
   "metadata": {},
   "outputs": [
    {
     "name": "stdout",
     "output_type": "stream",
     "text": [
      "Средняя оплата труда в Москве - 134140.17 руб.\n"
     ]
    }
   ],
   "source": [
    "avg_salary_moscov = pd.read_sql_query(my_query1, connection).iloc[0][0]\n",
    "print(f\"Средняя оплата труда в Москве - {avg_salary_moscov} руб.\")"
   ]
  },
  {
   "cell_type": "markdown",
   "id": "6a304daf",
   "metadata": {},
   "source": [
    "2. Найти количество вакансий компании \"Яндекс\" связанные с данными."
   ]
  },
  {
   "cell_type": "code",
   "execution_count": 74,
   "id": "137b09b6",
   "metadata": {},
   "outputs": [],
   "source": [
    "my_query2 = f'''\n",
    "with filtered_table as (\n",
    "    select * \n",
    "from vacancies v\n",
    "where\n",
    "    (\n",
    "        (v.name ILIKE '%data scientist%')\n",
    "        OR (v.name ILIKE '%data science%')\n",
    "        OR (v.name ILIKE '%исследователь данных%')\n",
    "        OR (v.name  LIKE '%ML%' AND  (v.name NOT LIKE '%HTML%'))\n",
    "        OR (v.name ILIKE '%machine learning%')\n",
    "        OR (v.name ILIKE '%машинн%обучен%')\n",
    "    ) \n",
    ")\n",
    "\n",
    "select\n",
    "    count(ft.id)\n",
    "from filtered_table ft\n",
    "    join employers e on e.id = ft.employer_id\n",
    "where\n",
    "    e.name = 'Яндекс'\n",
    "'''"
   ]
  },
  {
   "cell_type": "code",
   "execution_count": 75,
   "id": "aac7c173",
   "metadata": {},
   "outputs": [
    {
     "name": "stdout",
     "output_type": "stream",
     "text": [
      "Количество вакансий: 9\n"
     ]
    }
   ],
   "source": [
    "cnt_vacan_ds_ya = pd.read_sql_query(my_query2, connection).iloc[0][0]\n",
    "print(f\"Количество вакансий: {cnt_vacan_ds_ya}\")"
   ]
  },
  {
   "cell_type": "markdown",
   "id": "d327bfa5",
   "metadata": {},
   "source": [
    "3. Найти среднюю оплату труда компании \"Яндекс\" в Москве в сфере DS"
   ]
  },
  {
   "cell_type": "code",
   "execution_count": 76,
   "id": "e5635858",
   "metadata": {},
   "outputs": [],
   "source": [
    "my_query3 = f'''\n",
    "with filtered_table as (\n",
    "    select * \n",
    "from vacancies v\n",
    "where\n",
    "    (\n",
    "        (v.name ILIKE '%data scientist%')\n",
    "        OR (v.name ILIKE '%data science%')\n",
    "        OR (v.name ILIKE '%исследователь данных%')\n",
    "        OR (v.name  LIKE '%ML%' AND  (v.name NOT LIKE '%HTML%'))\n",
    "        OR (v.name ILIKE '%machine learning%')\n",
    "        OR (v.name ILIKE '%машинн%обучен%')\n",
    "    ) \n",
    ")\n",
    "\n",
    "select\n",
    "    round(avg((COALESCE(ft.salary_to, ft.salary_from) + COALESCE(ft.salary_from, ft.salary_to)) / 2), 2)\n",
    "from filtered_table ft\n",
    "    join employers e on e.id = ft.employer_id\n",
    "    join areas a on a.id = ft.area_id\n",
    "where\n",
    "    e.name = 'Яндекс' and\n",
    "    a.name = 'Москва' and\n",
    "    (ft.salary_to is not NULL or ft.salary_from is not NULL)\n",
    "'''"
   ]
  },
  {
   "cell_type": "code",
   "execution_count": 77,
   "id": "47d3967d",
   "metadata": {},
   "outputs": [
    {
     "name": "stdout",
     "output_type": "stream",
     "text": [
      "Средняя оплата труда: None\n"
     ]
    }
   ],
   "source": [
    "avg_salary_ds_ya_moscov = pd.read_sql_query(my_query3, connection).iloc[0][0]\n",
    "print(f\"Средняя оплата труда: {avg_salary_ds_ya_moscov}\")"
   ]
  },
  {
   "cell_type": "markdown",
   "id": "004f7d5f",
   "metadata": {},
   "source": [
    "___"
   ]
  },
  {
   "cell_type": "markdown",
   "id": "d242d513",
   "metadata": {},
   "source": [
    "Выводы:\n",
    "1. Средняя оплата труда в Москве 134 тыс. рублей.\n",
    "2. Компания \"Яндекс\" предлагает 9 вакансий в сфере DS.\n",
    "3. Компания \"Яндекс\" не предлагает вакансий в сфере DS в Москве. Либо в данном регионе зарплата не указана."
   ]
  },
  {
   "cell_type": "markdown",
   "id": "910106a4",
   "metadata": {},
   "source": [
    "Проведем ещё одно исследование и узнаем в каких регионах компания \"Яндекс\" предлагает вакансии в сфере DS, а так же посмотрим на оплату труда."
   ]
  },
  {
   "cell_type": "code",
   "execution_count": 78,
   "id": "8bcd3cd4",
   "metadata": {},
   "outputs": [],
   "source": [
    "my_query4 = f'''\n",
    "with filtered_table as (\n",
    "    select * \n",
    "from vacancies v\n",
    "where\n",
    "    (\n",
    "        (v.name ILIKE '%data scientist%')\n",
    "        OR (v.name ILIKE '%data science%')\n",
    "        OR (v.name ILIKE '%исследователь данных%')\n",
    "        OR (v.name  LIKE '%ML%' AND  (v.name NOT LIKE '%HTML%'))\n",
    "        OR (v.name ILIKE '%machine learning%')\n",
    "        OR (v.name ILIKE '%машинн%обучен%')\n",
    "    ) \n",
    ")\n",
    "\n",
    "select\n",
    "    a.name,\n",
    "    ft.salary_from,\n",
    "    ft.salary_to\n",
    "from filtered_table ft\n",
    "    join employers e on e.id = ft.employer_id\n",
    "    join areas a on a.id = ft.area_id\n",
    "where\n",
    "    e.name = 'Яндекс'\n",
    "'''"
   ]
  },
  {
   "cell_type": "code",
   "execution_count": 79,
   "id": "c47b5c31",
   "metadata": {},
   "outputs": [
    {
     "data": {
      "text/html": [
       "<div>\n",
       "<style scoped>\n",
       "    .dataframe tbody tr th:only-of-type {\n",
       "        vertical-align: middle;\n",
       "    }\n",
       "\n",
       "    .dataframe tbody tr th {\n",
       "        vertical-align: top;\n",
       "    }\n",
       "\n",
       "    .dataframe thead th {\n",
       "        text-align: right;\n",
       "    }\n",
       "</style>\n",
       "<table border=\"1\" class=\"dataframe\">\n",
       "  <thead>\n",
       "    <tr style=\"text-align: right;\">\n",
       "      <th></th>\n",
       "      <th>name</th>\n",
       "      <th>salary_from</th>\n",
       "      <th>salary_to</th>\n",
       "    </tr>\n",
       "  </thead>\n",
       "  <tbody>\n",
       "    <tr>\n",
       "      <th>0</th>\n",
       "      <td>Екатеринбург</td>\n",
       "      <td>None</td>\n",
       "      <td>None</td>\n",
       "    </tr>\n",
       "    <tr>\n",
       "      <th>1</th>\n",
       "      <td>Москва</td>\n",
       "      <td>None</td>\n",
       "      <td>None</td>\n",
       "    </tr>\n",
       "    <tr>\n",
       "      <th>2</th>\n",
       "      <td>Москва</td>\n",
       "      <td>None</td>\n",
       "      <td>None</td>\n",
       "    </tr>\n",
       "    <tr>\n",
       "      <th>3</th>\n",
       "      <td>Москва</td>\n",
       "      <td>None</td>\n",
       "      <td>None</td>\n",
       "    </tr>\n",
       "    <tr>\n",
       "      <th>4</th>\n",
       "      <td>Санкт-Петербург</td>\n",
       "      <td>None</td>\n",
       "      <td>None</td>\n",
       "    </tr>\n",
       "    <tr>\n",
       "      <th>5</th>\n",
       "      <td>Казань</td>\n",
       "      <td>None</td>\n",
       "      <td>None</td>\n",
       "    </tr>\n",
       "    <tr>\n",
       "      <th>6</th>\n",
       "      <td>Новосибирск</td>\n",
       "      <td>None</td>\n",
       "      <td>None</td>\n",
       "    </tr>\n",
       "    <tr>\n",
       "      <th>7</th>\n",
       "      <td>Москва</td>\n",
       "      <td>None</td>\n",
       "      <td>None</td>\n",
       "    </tr>\n",
       "    <tr>\n",
       "      <th>8</th>\n",
       "      <td>Санкт-Петербург</td>\n",
       "      <td>None</td>\n",
       "      <td>None</td>\n",
       "    </tr>\n",
       "  </tbody>\n",
       "</table>\n",
       "</div>"
      ],
      "text/plain": [
       "              name salary_from salary_to\n",
       "0     Екатеринбург        None      None\n",
       "1           Москва        None      None\n",
       "2           Москва        None      None\n",
       "3           Москва        None      None\n",
       "4  Санкт-Петербург        None      None\n",
       "5           Казань        None      None\n",
       "6      Новосибирск        None      None\n",
       "7           Москва        None      None\n",
       "8  Санкт-Петербург        None      None"
      ]
     },
     "metadata": {},
     "output_type": "display_data"
    }
   ],
   "source": [
    "ya_vacan_ds = pd.read_sql_query(my_query4, connection)\n",
    "display(ya_vacan_ds)"
   ]
  },
  {
   "cell_type": "markdown",
   "id": "c93c5e19",
   "metadata": {},
   "source": [
    "Таким образом мы выяснили, что помимо других городов, компания \"Яндекс\" предлагает вакансии в сфере DS в Москве (4 вакансии), но не указывает заработную плату."
   ]
  }
 ],
 "metadata": {
  "colab": {
   "collapsed_sections": [
    "8d62a9f3-f64e-4fe7-bdac-c4dffa16155e"
   ],
   "provenance": []
  },
  "kernelspec": {
   "display_name": "Python 3",
   "language": "python",
   "name": "python3"
  },
  "language_info": {
   "codemirror_mode": {
    "name": "ipython",
    "version": 3
   },
   "file_extension": ".py",
   "mimetype": "text/x-python",
   "name": "python",
   "nbconvert_exporter": "python",
   "pygments_lexer": "ipython3",
   "version": "3.9.10"
  }
 },
 "nbformat": 4,
 "nbformat_minor": 5
}
